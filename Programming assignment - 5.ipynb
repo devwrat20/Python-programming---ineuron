{
 "cells": [
  {
   "cell_type": "markdown",
   "metadata": {},
   "source": [
    "1.\tWrite a Python Program to Find LCM?"
   ]
  },
  {
   "cell_type": "code",
   "execution_count": 10,
   "metadata": {},
   "outputs": [
    {
     "name": "stdout",
     "output_type": "stream",
     "text": [
      "Enter 1st number: 12\n",
      "Enter 2nd number: 18\n",
      "Common element from two set is :[36, 72, 108, 144, 180, 216]\n",
      "lcm of two number 12 and 18 is : 36\n"
     ]
    }
   ],
   "source": [
    "a = int(input('Enter 1st number: '))\n",
    "b = int(input('Enter 2nd number: '))\n",
    "c = set()\n",
    "d = set()\n",
    "for i in range(a,a*b+1,a):\n",
    "    c.add(i)\n",
    "    \n",
    "for j in range(b,a*b+1,b):\n",
    "    d.add(j)\n",
    "\n",
    "e = list(c.intersection(d))\n",
    "print(f'Common element from two set is :{e}')\n",
    "print(f'lcm of two number {a} and {b} is : {e[0]}')"
   ]
  },
  {
   "cell_type": "markdown",
   "metadata": {},
   "source": [
    "2.\tWrite a Python Program to Find HCF?"
   ]
  },
  {
   "cell_type": "code",
   "execution_count": 19,
   "metadata": {},
   "outputs": [
    {
     "name": "stdout",
     "output_type": "stream",
     "text": [
      "Enter 1st number: 12\n",
      "Enter 2nd number: 18\n",
      "common divisor of two numbers are :[1, 2, 3, 6]\n",
      "HCF of two number 12 and 18 is : 6\n"
     ]
    }
   ],
   "source": [
    "a = int(input('Enter 1st number: '))\n",
    "b = int(input('Enter 2nd number: '))\n",
    "c = []\n",
    "d = []\n",
    "\n",
    "# Finding factors of the first number\n",
    "for i in range(1, a + 1):\n",
    "    if a % i == 0:\n",
    "        c.append(i)\n",
    "\n",
    "# Finding factors of the second number\n",
    "for j in range(1, b + 1):\n",
    "    if b % j == 0:\n",
    "        d.append(j)\n",
    "\n",
    "# Finding the intersection of both lists of factors\n",
    "e = list(set(c).intersection(d))\n",
    "print(f'common divisor of two numbers are :{e}')\n",
    "HCF = sorted(e)[-1]\n",
    "print(f'HCF of two number {a} and {b} is : {HCF}')   "
   ]
  },
  {
   "cell_type": "markdown",
   "metadata": {},
   "source": [
    "3.\tWrite a Python Program to Convert Decimal to Binary, Octal and Hexadecimal?"
   ]
  },
  {
   "cell_type": "code",
   "execution_count": 12,
   "metadata": {},
   "outputs": [
    {
     "name": "stdout",
     "output_type": "stream",
     "text": [
      "Enter Decimal Number :234\n",
      "0b11101010 in binary.\n",
      "0o352 in octal.\n",
      "0xea in hexadecimal.\n"
     ]
    }
   ],
   "source": [
    "a = int(input('Enter Decimal Number :'))\n",
    "\n",
    "print(bin(a), \"in binary.\")\n",
    "print(oct(a), \"in octal.\")\n",
    "print(hex(a), \"in hexadecimal.\")\n"
   ]
  },
  {
   "cell_type": "markdown",
   "metadata": {},
   "source": [
    "4.\tWrite a Python Program To Find ASCII value of a character?"
   ]
  },
  {
   "cell_type": "code",
   "execution_count": 13,
   "metadata": {},
   "outputs": [
    {
     "name": "stdout",
     "output_type": "stream",
     "text": [
      "enter character :r\n",
      "The ASCII value of 'r' is 114\n"
     ]
    }
   ],
   "source": [
    "a = input('enter character :')\n",
    "print(\"The ASCII value of '\" + a + \"' is\", ord(a))\n"
   ]
  },
  {
   "cell_type": "markdown",
   "metadata": {},
   "source": [
    "5.\tWrite a Python Program to Make a Simple Calculator with 4 basic mathematical operations?"
   ]
  },
  {
   "cell_type": "code",
   "execution_count": 21,
   "metadata": {},
   "outputs": [
    {
     "name": "stdout",
     "output_type": "stream",
     "text": [
      "enter 1st number :7\n",
      "enter 2nd number :8\n",
      "sum of two number 7 and 8 is : 15\n",
      "substraction of two number 7 and 8 is : -1\n",
      "multiplication of two number 7 and 8 is : 56\n",
      "Divisor of two number 7 and 8 is : 0\n"
     ]
    }
   ],
   "source": [
    "def sum(a,b):\n",
    "    print(f'sum of two number {a} and {b} is : {a+b}')\n",
    "def subtraction(a,b):\n",
    "    print(f'substraction of two number {a} and {b} is : {a-b}')\n",
    "def multiplication(a,b):\n",
    "    print(f'multiplication of two number {a} and {b} is : {a*b}')\n",
    "def division(a,b):\n",
    "    print(f'Divisor of two number {a} and {b} is : {a//b}')\n",
    "a = int(input(f'enter 1st number :'))\n",
    "b = int(input(f'enter 2nd number :'))\n",
    "sum(a, b)\n",
    "subtraction(a, b)\n",
    "multiplication(a, b)\n",
    "division(a, b)"
   ]
  }
 ],
 "metadata": {
  "kernelspec": {
   "display_name": "Python 3",
   "language": "python",
   "name": "python3"
  },
  "language_info": {
   "codemirror_mode": {
    "name": "ipython",
    "version": 3
   },
   "file_extension": ".py",
   "mimetype": "text/x-python",
   "name": "python",
   "nbconvert_exporter": "python",
   "pygments_lexer": "ipython3",
   "version": "3.8.5"
  }
 },
 "nbformat": 4,
 "nbformat_minor": 4
}
