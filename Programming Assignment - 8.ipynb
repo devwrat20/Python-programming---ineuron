{
 "cells": [
  {
   "cell_type": "code",
   "execution_count": 4,
   "metadata": {},
   "outputs": [],
   "source": [
    "import numpy as np\n",
    "import pandas as pd"
   ]
  },
  {
   "cell_type": "markdown",
   "metadata": {},
   "source": [
    "1.\tWrite a Python Program to Add Two Matrices?"
   ]
  },
  {
   "cell_type": "code",
   "execution_count": 28,
   "metadata": {},
   "outputs": [
    {
     "name": "stdout",
     "output_type": "stream",
     "text": [
      "addition of two matrix is [[116 112  51  54]\n",
      " [106  88  51  99]\n",
      " [ 99  71 125 122]\n",
      " [ 88  67  79  52]\n",
      " [ 77  74 130 101]]\n"
     ]
    }
   ],
   "source": [
    "a = np.random.randint(20,70,20).reshape(5,4) #here we created matrix from random number of 5 x 4 \n",
    "\n",
    "b = np.random.randint(20,70,20).reshape(5,4) # #here we created matrix from random number of 5 x 4 \n",
    "\n",
    "print(f'addition of two matrix is {a+b}')"
   ]
  },
  {
   "cell_type": "markdown",
   "metadata": {},
   "source": [
    "2.\tWrite a Python Program to Multiply Two Matrices?"
   ]
  },
  {
   "cell_type": "code",
   "execution_count": 38,
   "metadata": {},
   "outputs": [
    {
     "name": "stdout",
     "output_type": "stream",
     "text": [
      "multiplication of two matrix is [[ 129 2709 1517 1040]\n",
      " [3599  775  455  102]\n",
      " [1534 1890  234  795]\n",
      " [1920 1734 1088  483]\n",
      " [ 702 1935 1824  128]]\n"
     ]
    }
   ],
   "source": [
    "a = np.random.randint(1,70,20).reshape(5,4)\n",
    "b = np.random.randint(1,70,20).reshape(5,4)\n",
    "\n",
    "print(f'multiplication of two matrix is {a*b}')"
   ]
  },
  {
   "cell_type": "markdown",
   "metadata": {},
   "source": [
    "3.\tWrite a Python Program to Transpose a Matrix?"
   ]
  },
  {
   "cell_type": "code",
   "execution_count": 47,
   "metadata": {},
   "outputs": [
    {
     "name": "stdout",
     "output_type": "stream",
     "text": [
      "2-D matrix is :  [[1 2 3]\n",
      " [4 5 6]]\n",
      "Transpose of 2-D matrix is : [[1 4]\n",
      " [2 5]\n",
      " [3 6]]\n"
     ]
    }
   ],
   "source": [
    "li = [1,2,3,4,5,6]\n",
    "a = np.array(li).reshape(2,3)\n",
    "print(f'2-D matrix is :  {a}')\n",
    "\n",
    "b = a.T\n",
    "print(f'Transpose of 2-D matrix is : {b}')"
   ]
  },
  {
   "cell_type": "markdown",
   "metadata": {},
   "source": [
    "4.\tWrite a Python Program to Sort Words in Alphabetic Order?"
   ]
  },
  {
   "cell_type": "code",
   "execution_count": 5,
   "metadata": {},
   "outputs": [
    {
     "name": "stdout",
     "output_type": "stream",
     "text": [
      "['Write', 'a', 'Python', 'Program', 'to', 'Sort', 'Words', 'in', 'Alphabetic', 'Order']\n",
      "Alphabetic Order Program Python Sort Words Write a in to\n"
     ]
    }
   ],
   "source": [
    "sentence = \"Write a Python Program to Sort Words in Alphabetic Order\"\n",
    "\n",
    "# Split the sentence into words\n",
    "words = sentence.split()\n",
    "print(words)\n",
    "\n",
    "# Sort the words\n",
    "words.sort()\n",
    "\n",
    "# Join the sorted words back into a sentence\n",
    "sorted_sentence = ' '.join(words)\n",
    "\n",
    "print(sorted_sentence)"
   ]
  },
  {
   "cell_type": "markdown",
   "metadata": {},
   "source": [
    "5.\tWrite a Python Program to Remove Punctuation From a String?"
   ]
  },
  {
   "cell_type": "code",
   "execution_count": 6,
   "metadata": {},
   "outputs": [
    {
     "name": "stdout",
     "output_type": "stream",
     "text": [
      "Hello World This is a Python program\n"
     ]
    }
   ],
   "source": [
    "# Import the string library\n",
    "import string\n",
    "\n",
    "s = \"Hello, World!! This is a Python program.\"\n",
    "\n",
    "# Create a translation table that maps every punctuation to None\n",
    "translator = str.maketrans('', '', string.punctuation)\n",
    "\n",
    "# Use the translation table to remove all punctuation from the string\n",
    "s_without_punctuation = s.translate(translator)\n",
    "\n",
    "print(s_without_punctuation)"
   ]
  }
 ],
 "metadata": {
  "kernelspec": {
   "display_name": "Python 3",
   "language": "python",
   "name": "python3"
  },
  "language_info": {
   "codemirror_mode": {
    "name": "ipython",
    "version": 3
   },
   "file_extension": ".py",
   "mimetype": "text/x-python",
   "name": "python",
   "nbconvert_exporter": "python",
   "pygments_lexer": "ipython3",
   "version": "3.8.5"
  }
 },
 "nbformat": 4,
 "nbformat_minor": 4
}
